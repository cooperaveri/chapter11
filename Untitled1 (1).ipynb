{
 "cells": [
  {
   "cell_type": "markdown",
   "id": "f99f1e8a-4dbc-43f8-8ab8-33a6f695155e",
   "metadata": {},
   "source": [
    "Chapter 11"
   ]
  },
  {
   "cell_type": "markdown",
   "id": "bf4871a6-4f19-4b3d-b5e2-8818e9ebd899",
   "metadata": {},
   "source": [
    "Programming Exercises 1,2"
   ]
  },
  {
   "cell_type": "markdown",
   "id": "45ef6dd3-6d40-46bd-a170-d808cc8c2f22",
   "metadata": {},
   "source": [
    "1. write an Employee class that keeps data attributes for the following pieces of information: employee name, employee number. next, write a class named ProductionWorker that is a subclass of the Employee class. the ProductionWorker class should keep data attributes for the following information: shift number (an integer, such as 1,2, or 3), hourly pay rate. the workday is divided into two shifts: day and night. the shift attribute will hold an integer value representing the shift that the employee works. the day shift is shift 1 and the night shift is shift 2. write the appropriate accessor and mutator methods for each class. once written the classes, write a program that creates an object of the ProductionWorker class and prompts that user to enter data for each of the objects data attributes. store the data in the object, then use the objects accessor methods to retrieve it and display it on screen."
   ]
  },
  {
   "cell_type": "code",
   "execution_count": null,
   "id": "55ad005e-fd4b-4298-9205-8d6221a5e7c6",
   "metadata": {},
   "outputs": [],
   "source": []
  }
 ],
 "metadata": {
  "kernelspec": {
   "display_name": "anaconda-2022.05-py39",
   "language": "python",
   "name": "conda-env-anaconda-2022.05-py39-py"
  },
  "language_info": {
   "codemirror_mode": {
    "name": "ipython",
    "version": 3
   },
   "file_extension": ".py",
   "mimetype": "text/x-python",
   "name": "python",
   "nbconvert_exporter": "python",
   "pygments_lexer": "ipython3",
   "version": "3.9.12"
  }
 },
 "nbformat": 4,
 "nbformat_minor": 5
}
