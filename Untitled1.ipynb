{
 "cells": [
  {
   "cell_type": "markdown",
   "id": "f99f1e8a-4dbc-43f8-8ab8-33a6f695155e",
   "metadata": {},
   "source": [
    "Chapter 11"
   ]
  },
  {
   "cell_type": "code",
   "execution_count": null,
   "id": "363900e0-0438-4eca-967a-0411b5611936",
   "metadata": {},
   "outputs": [],
   "source": []
  }
 ],
 "metadata": {
  "kernelspec": {
   "display_name": "anaconda-2022.05-py39",
   "language": "python",
   "name": "conda-env-anaconda-2022.05-py39-py"
  },
  "language_info": {
   "codemirror_mode": {
    "name": "ipython",
    "version": 3
   },
   "file_extension": ".py",
   "mimetype": "text/x-python",
   "name": "python",
   "nbconvert_exporter": "python",
   "pygments_lexer": "ipython3",
   "version": "3.9.12"
  }
 },
 "nbformat": 4,
 "nbformat_minor": 5
}
